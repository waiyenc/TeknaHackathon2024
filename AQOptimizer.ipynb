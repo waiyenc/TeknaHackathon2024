{
 "cells": [
  {
   "cell_type": "code",
   "execution_count": null,
   "id": "d6d135b1-22bc-430c-b736-4e4605cbb320",
   "metadata": {},
   "outputs": [],
   "source": [
    "import requests\n",
    "import googlemaps"
   ]
  }
 ],
 "metadata": {
  "kernelspec": {
   "display_name": "Python 3 (ipykernel)",
   "language": "python",
   "name": "python3"
  },
  "language_info": {
   "codemirror_mode": {
    "name": "ipython",
    "version": 3
   },
   "file_extension": ".py",
   "mimetype": "text/x-python",
   "name": "python",
   "nbconvert_exporter": "python",
   "pygments_lexer": "ipython3",
   "version": "3.10.12"
  }
 },
 "nbformat": 4,
 "nbformat_minor": 5
}
